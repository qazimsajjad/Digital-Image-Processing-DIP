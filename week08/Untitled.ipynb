{
 "cells": [
  {
   "cell_type": "code",
   "execution_count": 1,
   "id": "fc9ad3d9",
   "metadata": {},
   "outputs": [],
   "source": [
    "import cv2\n",
    "import numpy as np\n",
    "import matplotlib.pyplot as plt"
   ]
  },
  {
   "cell_type": "code",
   "execution_count": 27,
   "id": "17473e70",
   "metadata": {},
   "outputs": [],
   "source": [
    "img = cv2.imread('./Fig0236(a)(letter_T).tif',0)\n",
    "k = np.array([\n",
    "    [-1,0,1],\n",
    "    [-2,0,2],\n",
    "    [-1,0,1]\n",
    "])\n",
    "\n",
    "result = np.zeros((img.shape[0], img.shape[1]))\n",
    "img2 = np.pad(img, (1,1),'constant')\n",
    "for i in range(img.shape[0]):\n",
    "    for j in range(img.shape[1]):\n",
    "        result[i,j] = k[0,0]*img2[i,j] + k[0,1]*img2[i,j+1] + k[0,2]*img2[i,j+2]+k[1,0]*img2[i+1,j] + k[1,1]*img2[i+1,j+1] + k[1,1] * img2[i+1,j+2]+ k[2,0]*img2[i+2,j] + k[2,1]*img2[i+2, j+1] + k[2,2] * img2[i+2,j+2]\n",
    "cv2.imshow('Result', result)\n",
    "cv2.waitKey(0)\n",
    "cv2.destroyAllWindows()"
   ]
  },
  {
   "cell_type": "code",
   "execution_count": 28,
   "id": "862cc93e",
   "metadata": {},
   "outputs": [],
   "source": [
    "img = cv2.imread('./Fig0236(a)(letter_T).tif',0)\n",
    "k = np.array([\n",
    "    [-1,-2,-1],\n",
    "    [0,0,0],\n",
    "    [1,2,1]\n",
    "])\n",
    "\n",
    "result2 = np.zeros((img.shape[0], img.shape[1]))\n",
    "img2 = np.pad(img, (1,1),'constant')\n",
    "for i in range(img.shape[0]):\n",
    "    for j in range(img.shape[1]):\n",
    "        result[i,j] = k[0,0]*img2[i,j] + k[0,1]*img2[i,j+1] + k[0,2]*img2[i,j+2]+k[1,0]*img2[i+1,j] + k[1,1]*img2[i+1,j+1] + k[1,1] * img2[i+1,j+2]+ k[2,0]*img2[i+2,j] + k[2,1]*img2[i+2, j+1] + k[2,2] * img2[i+2,j+2]\n",
    "cv2.imshow('Result', result2)\n",
    "cv2.waitKey(0)\n",
    "cv2.destroyAllWindows()"
   ]
  },
  {
   "cell_type": "code",
   "execution_count": 29,
   "id": "198637f9",
   "metadata": {},
   "outputs": [],
   "source": [
    "res = result+result2\n",
    "cv2.imshow('Result', res)\n",
    "cv2.waitKey(0)\n",
    "cv2.destroyAllWindows()"
   ]
  },
  {
   "cell_type": "code",
   "execution_count": null,
   "id": "d935b865",
   "metadata": {},
   "outputs": [],
   "source": []
  },
  {
   "cell_type": "code",
   "execution_count": null,
   "id": "f1f9a33a",
   "metadata": {},
   "outputs": [],
   "source": []
  }
 ],
 "metadata": {
  "kernelspec": {
   "display_name": "Python 3 (ipykernel)",
   "language": "python",
   "name": "python3"
  },
  "language_info": {
   "codemirror_mode": {
    "name": "ipython",
    "version": 3
   },
   "file_extension": ".py",
   "mimetype": "text/x-python",
   "name": "python",
   "nbconvert_exporter": "python",
   "pygments_lexer": "ipython3",
   "version": "3.9.12"
  }
 },
 "nbformat": 4,
 "nbformat_minor": 5
}
