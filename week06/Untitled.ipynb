{
 "cells": [
  {
   "cell_type": "code",
   "execution_count": 3,
   "id": "4d082bc1",
   "metadata": {},
   "outputs": [],
   "source": [
    "import numpy as np\n",
    "import cv2\n",
    "import matplotlib.pyplot as plt"
   ]
  },
  {
   "cell_type": "code",
   "execution_count": 10,
   "id": "238804b2",
   "metadata": {},
   "outputs": [],
   "source": [
    "img = np.array([\n",
    "    [0,0,1,1,1,1,0,0],\n",
    "    [0,1,1,1,1,1,1,0],\n",
    "    [1,1,1,1,1,1,1,1],\n",
    "    [1,1,1,1,1,1,1,1],\n",
    "    [1,1,1,1,1,1,1,1],\n",
    "    [0,1,1,1,1,1,1,0],\n",
    "    [0,0,1,1,1,1,0,0]], dtype=np.int8\n",
    ")"
   ]
  },
  {
   "cell_type": "code",
   "execution_count": 20,
   "id": "997c5df8",
   "metadata": {},
   "outputs": [
    {
     "data": {
      "text/plain": [
       "2"
      ]
     },
     "execution_count": 20,
     "metadata": {},
     "output_type": "execute_result"
    }
   ],
   "source": [
    "labels, stats, h, w = cv2.connectedComponentsWithStats(img)\n",
    "labels"
   ]
  },
  {
   "cell_type": "code",
   "execution_count": 22,
   "id": "ed85e5ba",
   "metadata": {},
   "outputs": [
    {
     "name": "stdout",
     "output_type": "stream",
     "text": [
      "Area of the object is [12, 44]\n"
     ]
    }
   ],
   "source": [
    "area = [0,0]\n",
    "for i in range(img.shape[0]):\n",
    "    for j in range(img.shape[1]):\n",
    "        if img[i,j]==1:\n",
    "            area[1]+=1\n",
    "        else:\n",
    "            area[0]+=1\n",
    "print(f'Area of the object is {area}')"
   ]
  },
  {
   "cell_type": "code",
   "execution_count": 17,
   "id": "347ce1a4",
   "metadata": {},
   "outputs": [
    {
     "data": {
      "text/plain": [
       "(7, 8)"
      ]
     },
     "execution_count": 17,
     "metadata": {},
     "output_type": "execute_result"
    }
   ],
   "source": [
    "img.shape"
   ]
  },
  {
   "cell_type": "code",
   "execution_count": null,
   "id": "5bd2712d",
   "metadata": {},
   "outputs": [],
   "source": []
  }
 ],
 "metadata": {
  "kernelspec": {
   "display_name": "Python 3 (ipykernel)",
   "language": "python",
   "name": "python3"
  },
  "language_info": {
   "codemirror_mode": {
    "name": "ipython",
    "version": 3
   },
   "file_extension": ".py",
   "mimetype": "text/x-python",
   "name": "python",
   "nbconvert_exporter": "python",
   "pygments_lexer": "ipython3",
   "version": "3.9.12"
  }
 },
 "nbformat": 4,
 "nbformat_minor": 5
}
