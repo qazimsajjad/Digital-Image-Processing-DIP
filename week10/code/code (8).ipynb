{
 "cells": [
  {
   "cell_type": "code",
   "execution_count": 1,
   "id": "ed33678b",
   "metadata": {},
   "outputs": [],
   "source": [
    "#importing libraries\n",
    "import pandas as pd\n",
    "import numpy as np\n",
    "import os\n",
    "import time\n",
    "import cv2\n",
    "import matplotlib.pyplot as plt"
   ]
  },
  {
   "cell_type": "code",
   "execution_count": 2,
   "id": "597e12be",
   "metadata": {},
   "outputs": [
    {
     "data": {
      "text/plain": [
       "276"
      ]
     },
     "execution_count": 2,
     "metadata": {},
     "output_type": "execute_result"
    }
   ],
   "source": [
    "#loading dataset\n",
    "cars = os.listdir('./Image Classification/cars')\n",
    "balls = os.listdir('./Image Classification/Cricket ball')\n",
    "cones = os.listdir('./Image Classification/Ice cream cone')\n",
    "len(cones)"
   ]
  },
  {
   "cell_type": "code",
   "execution_count": 3,
   "id": "6e7a6c81",
   "metadata": {},
   "outputs": [
    {
     "data": {
      "text/plain": [
       "['Cars', 'Cricket ball', 'Ice cream cone']"
      ]
     },
     "execution_count": 3,
     "metadata": {},
     "output_type": "execute_result"
    }
   ],
   "source": [
    "catagories = os.listdir('./Image Classification/')\n",
    "catagories"
   ]
  },
  {
   "cell_type": "code",
   "execution_count": 4,
   "id": "a80dbdf7",
   "metadata": {
    "scrolled": true
   },
   "outputs": [],
   "source": [
    "#splitting datasets\n",
    "dataset = []\n",
    "target = []\n",
    "datadir = 'Image Classification/'\n",
    "for catagory in catagories:\n",
    "    path = os.path.join(datadir,catagory)\n",
    "    for img in os.listdir(path):\n",
    "        img_arr = cv2.imread(os.path.join(path,img))\n",
    "        resized = cv2.resize(cv2.cvtColor(img_arr,cv2.COLOR_BGR2GRAY),(150,150))\n",
    "        dataset.append(resized.flatten())\n",
    "        target.append(catagories.index(catagory))\n"
   ]
  },
  {
   "cell_type": "code",
   "execution_count": 6,
   "id": "92f9fe87",
   "metadata": {},
   "outputs": [
    {
     "data": {
      "text/plain": [
       "0"
      ]
     },
     "execution_count": 6,
     "metadata": {},
     "output_type": "execute_result"
    }
   ],
   "source": [
    "dataset[0]\n",
    "target[0]"
   ]
  },
  {
   "cell_type": "code",
   "execution_count": 5,
   "id": "8809ea7e",
   "metadata": {},
   "outputs": [],
   "source": [
    "targets = np.array(target)\n",
    "dataset = np.array(dataset)"
   ]
  },
  {
   "cell_type": "code",
   "execution_count": 9,
   "id": "1e60ffbe",
   "metadata": {},
   "outputs": [],
   "source": [
    "#splitting data into train and test\n",
    "from sklearn.model_selection import train_test_split\n",
    "X_train,X_test,y_train, y_test = train_test_split(dataset,targets, test_size=0.20, random_state=0)"
   ]
  },
  {
   "cell_type": "code",
   "execution_count": 15,
   "id": "31e1e369",
   "metadata": {},
   "outputs": [],
   "source": [
    "#scaling features \n",
    "from sklearn.preprocessing import StandardScaler\n",
    "sc = StandardScaler()\n",
    "X_train = sc.fit_transform(X_train)\n",
    "X_test = sc.transform(X_test)"
   ]
  },
  {
   "cell_type": "code",
   "execution_count": 11,
   "id": "74ee5b1b",
   "metadata": {},
   "outputs": [
    {
     "name": "stderr",
     "output_type": "stream",
     "text": [
      "C:\\Anaconda3\\lib\\site-packages\\sklearn\\linear_model\\_logistic.py:814: ConvergenceWarning: lbfgs failed to converge (status=1):\n",
      "STOP: TOTAL NO. of ITERATIONS REACHED LIMIT.\n",
      "\n",
      "Increase the number of iterations (max_iter) or scale the data as shown in:\n",
      "    https://scikit-learn.org/stable/modules/preprocessing.html\n",
      "Please also refer to the documentation for alternative solver options:\n",
      "    https://scikit-learn.org/stable/modules/linear_model.html#logistic-regression\n",
      "  n_iter_i = _check_optimize_result(\n"
     ]
    },
    {
     "data": {
      "text/plain": [
       "6.287669658660889"
      ]
     },
     "execution_count": 11,
     "metadata": {},
     "output_type": "execute_result"
    }
   ],
   "source": [
    "#fitting the model\n",
    "from sklearn.linear_model import LogisticRegression\n",
    "classifier = LogisticRegression()\n",
    "st = time.time()\n",
    "classifier.fit(X_train, y_train)\n",
    "ft = time.time()-st\n",
    "ft"
   ]
  },
  {
   "cell_type": "code",
   "execution_count": 12,
   "id": "a1d41bae",
   "metadata": {},
   "outputs": [
    {
     "data": {
      "text/plain": [
       "array([2, 1, 2, 2, 2, 1, 1, 2, 2, 2, 0, 1, 1, 1, 1, 2, 2, 1, 0, 2, 2, 0,\n",
       "       0, 1, 0, 0, 1, 0, 2, 2, 0, 1, 0, 1, 0, 0, 0, 1, 0, 2, 2, 0, 2, 2,\n",
       "       2, 1, 2, 0, 1, 2, 2, 2, 0, 2, 0, 1, 1, 2, 0, 0, 2, 0, 2, 0, 1, 1,\n",
       "       1, 1, 0, 1, 2, 1, 1, 2, 0, 2, 1, 0, 2, 0, 1, 1, 1, 2, 2, 1, 0, 0,\n",
       "       1, 1, 2, 2, 1, 2, 1, 2, 2, 1, 1, 2, 1, 2, 0, 2, 0, 2, 1, 2, 1, 2,\n",
       "       1, 2, 1, 2, 0, 1, 1, 2, 2, 1, 0, 0, 2, 1, 2, 0, 1, 1, 1, 1, 0, 1,\n",
       "       2, 1, 0, 0, 1, 0, 0, 2, 0, 1, 2, 2, 1, 1, 0, 2, 2, 1, 1, 2, 1, 2,\n",
       "       1, 2, 0, 0, 1, 1, 1, 1, 1, 0, 2, 1, 1, 2, 0, 1, 1, 2, 1, 2, 2, 2,\n",
       "       0, 0, 2, 2, 0, 1, 0, 1, 1, 1, 1, 2, 0, 0, 2, 2, 2, 1, 1, 0, 1, 2])"
      ]
     },
     "execution_count": 12,
     "metadata": {},
     "output_type": "execute_result"
    }
   ],
   "source": [
    "preds = classifier.predict(X_test)\n",
    "preds"
   ]
  },
  {
   "cell_type": "code",
   "execution_count": 13,
   "id": "8161cd3b",
   "metadata": {},
   "outputs": [
    {
     "data": {
      "text/plain": [
       "array([[43, 13,  7],\n",
       "       [ 6, 61,  5],\n",
       "       [ 2,  2, 59]], dtype=int64)"
      ]
     },
     "execution_count": 13,
     "metadata": {},
     "output_type": "execute_result"
    }
   ],
   "source": [
    "#confusion matrix\n",
    "from sklearn.metrics import confusion_matrix\n",
    "cm = confusion_matrix(y_test,preds)\n",
    "cm"
   ]
  },
  {
   "cell_type": "code",
   "execution_count": 14,
   "id": "f90b91e9",
   "metadata": {},
   "outputs": [
    {
     "data": {
      "text/plain": [
       "0.8232323232323232"
      ]
     },
     "execution_count": 14,
     "metadata": {},
     "output_type": "execute_result"
    }
   ],
   "source": [
    "classifier.score(X_test,y_test)"
   ]
  },
  {
   "cell_type": "code",
   "execution_count": 16,
   "id": "d4692dca",
   "metadata": {},
   "outputs": [],
   "source": [
    "X_test = sc.inverse_transform(X_test)"
   ]
  },
  {
   "cell_type": "code",
   "execution_count": 19,
   "id": "d9d5161a",
   "metadata": {},
   "outputs": [
    {
     "ename": "ValueError",
     "evalue": "cannot reshape array of size 22500 into shape (150,150,3)",
     "output_type": "error",
     "traceback": [
      "\u001b[1;31m---------------------------------------------------------------------------\u001b[0m",
      "\u001b[1;31mValueError\u001b[0m                                Traceback (most recent call last)",
      "Input \u001b[1;32mIn [19]\u001b[0m, in \u001b[0;36m<cell line: 1>\u001b[1;34m()\u001b[0m\n\u001b[1;32m----> 1\u001b[0m plt\u001b[38;5;241m.\u001b[39mimshow(\u001b[43mX_test\u001b[49m\u001b[43m[\u001b[49m\u001b[43mnp\u001b[49m\u001b[38;5;241;43m.\u001b[39;49m\u001b[43mrandom\u001b[49m\u001b[38;5;241;43m.\u001b[39;49m\u001b[43mrandint\u001b[49m\u001b[43m(\u001b[49m\u001b[38;5;28;43mlen\u001b[39;49m\u001b[43m(\u001b[49m\u001b[43mX_test\u001b[49m\u001b[43m)\u001b[49m\u001b[43m)\u001b[49m\u001b[43m]\u001b[49m\u001b[38;5;241;43m.\u001b[39;49m\u001b[43mreshape\u001b[49m\u001b[43m(\u001b[49m\u001b[38;5;241;43m150\u001b[39;49m\u001b[43m,\u001b[49m\u001b[38;5;241;43m150\u001b[39;49m\u001b[43m,\u001b[49m\u001b[38;5;241;43m3\u001b[39;49m\u001b[43m)\u001b[49m)\n",
      "\u001b[1;31mValueError\u001b[0m: cannot reshape array of size 22500 into shape (150,150,3)"
     ]
    }
   ],
   "source": [
    "plt.imshow(X_test[np.random.randint(len(X_test))].reshape(150,150,3))"
   ]
  },
  {
   "cell_type": "code",
   "execution_count": 20,
   "id": "d30c1a78",
   "metadata": {},
   "outputs": [
    {
     "ename": "ValueError",
     "evalue": "cannot reshape array of size 22500 into shape (150,150,3)",
     "output_type": "error",
     "traceback": [
      "\u001b[1;31m---------------------------------------------------------------------------\u001b[0m",
      "\u001b[1;31mValueError\u001b[0m                                Traceback (most recent call last)",
      "Input \u001b[1;32mIn [20]\u001b[0m, in \u001b[0;36m<cell line: 1>\u001b[1;34m()\u001b[0m\n\u001b[1;32m----> 1\u001b[0m plt\u001b[38;5;241m.\u001b[39mimshow(\u001b[43mX_test\u001b[49m\u001b[43m[\u001b[49m\u001b[38;5;241;43m0\u001b[39;49m\u001b[43m]\u001b[49m\u001b[38;5;241;43m.\u001b[39;49m\u001b[43mreshape\u001b[49m\u001b[43m(\u001b[49m\u001b[38;5;241;43m150\u001b[39;49m\u001b[43m,\u001b[49m\u001b[38;5;241;43m150\u001b[39;49m\u001b[43m,\u001b[49m\u001b[38;5;241;43m3\u001b[39;49m\u001b[43m)\u001b[49m)\n",
      "\u001b[1;31mValueError\u001b[0m: cannot reshape array of size 22500 into shape (150,150,3)"
     ]
    }
   ],
   "source": [
    "plt.imshow(X_test[0].reshape(150,150,3))"
   ]
  },
  {
   "cell_type": "code",
   "execution_count": 22,
   "id": "5155fe46",
   "metadata": {},
   "outputs": [
    {
     "data": {
      "text/plain": [
       "1.0"
      ]
     },
     "execution_count": 22,
     "metadata": {},
     "output_type": "execute_result"
    }
   ],
   "source": [
    "classifier.score(X_train, y_train)"
   ]
  },
  {
   "cell_type": "code",
   "execution_count": null,
   "id": "0eefc238",
   "metadata": {},
   "outputs": [],
   "source": []
  }
 ],
 "metadata": {
  "kernelspec": {
   "display_name": "Python 3 (ipykernel)",
   "language": "python",
   "name": "python3"
  },
  "language_info": {
   "codemirror_mode": {
    "name": "ipython",
    "version": 3
   },
   "file_extension": ".py",
   "mimetype": "text/x-python",
   "name": "python",
   "nbconvert_exporter": "python",
   "pygments_lexer": "ipython3",
   "version": "3.9.12"
  }
 },
 "nbformat": 4,
 "nbformat_minor": 5
}
