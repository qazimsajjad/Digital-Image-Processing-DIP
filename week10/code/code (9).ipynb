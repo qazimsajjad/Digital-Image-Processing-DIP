{
 "cells": [
  {
   "cell_type": "code",
   "execution_count": 2,
   "id": "d427d5a9",
   "metadata": {},
   "outputs": [],
   "source": [
    "#importing libraries\n",
    "import numpy as np\n",
    "import pandas as pd\n",
    "import matplotlib.pyplot as plt\n",
    "import cv2\n",
    "import os,time\n",
    "from skimage.feature import SIFT"
   ]
  },
  {
   "cell_type": "code",
   "execution_count": 3,
   "id": "975745c9",
   "metadata": {},
   "outputs": [
    {
     "data": {
      "text/plain": [
       "['Cars', 'Cricket ball', 'Ice cream cone']"
      ]
     },
     "execution_count": 3,
     "metadata": {},
     "output_type": "execute_result"
    }
   ],
   "source": [
    "#directing the files\n",
    "cars = os.listdir('./Image Classification/cars')\n",
    "balls = os.listdir('./Image Classification/Cricket ball')\n",
    "cones = os.listdir('./Image Classification/Ice cream cone')\n",
    "catagories = os.listdir('./Image Classification/')\n",
    "catagories"
   ]
  },
  {
   "cell_type": "code",
   "execution_count": 4,
   "id": "2355ac2d",
   "metadata": {},
   "outputs": [],
   "source": [
    "#reading the dataset\n",
    "dataset= []\n",
    "target = []\n",
    "datadir = 'Image Classification/'\n",
    "sift = cv2.xfeatures2d.SIFT_create()\n",
    "#sift = SIFT()\n",
    "keypoints = []\n",
    "descriptors = []\n",
    "for catagory in catagories:\n",
    "    path = os.path.join(datadir,catagory)\n",
    "    for img in os.listdir(path):\n",
    "        img_array = cv2.imread(os.path.join(path,img),0)\n",
    "        resized = cv2.resize(img_array,(150,150))\n",
    "        kp,desc = sift.detectAndCompute(resized, None)\n",
    "        keypoints.append(kp)\n",
    "        descriptors.append(desc)\n",
    "        dataset.append(resized.flatten())\n",
    "        target.append(catagories.index(catagory))"
   ]
  },
  {
   "cell_type": "code",
   "execution_count": 5,
   "id": "28a197d0",
   "metadata": {},
   "outputs": [
    {
     "data": {
      "text/plain": [
       "array([[255, 255, 255, ..., 255, 255, 255],\n",
       "       [183, 185, 185, ...,  84,  83,  82],\n",
       "       [ 42,  63,  65, ..., 159, 153, 146],\n",
       "       ...,\n",
       "       [255, 255, 255, ..., 255, 255, 255],\n",
       "       [255, 255, 255, ..., 255, 255, 255],\n",
       "       [255, 255, 255, ..., 255, 255, 255]], dtype=uint8)"
      ]
     },
     "execution_count": 5,
     "metadata": {},
     "output_type": "execute_result"
    }
   ],
   "source": [
    "labels = np.array(target)\n",
    "features = np.array(dataset)\n",
    "features"
   ]
  },
  {
   "cell_type": "code",
   "execution_count": 37,
   "id": "43fdf072",
   "metadata": {},
   "outputs": [],
   "source": [
    "# myimg = img_array\n",
    "# d = sift.detect(myimg)\n",
    "# print(d)\n",
    "# plt.imshow(myimg, cmap='gray')"
   ]
  },
  {
   "cell_type": "code",
   "execution_count": 38,
   "id": "9cdedcac",
   "metadata": {},
   "outputs": [],
   "source": [
    "# targets = np.array(target)\n",
    "# descriptors_arr = np.array(descriptors)\n",
    "# features = np.array(features)\n",
    "# features.shape\n",
    "# targets.shape"
   ]
  },
  {
   "cell_type": "code",
   "execution_count": 44,
   "id": "4c14b592",
   "metadata": {},
   "outputs": [],
   "source": [
    "new_data = []\n",
    "temp=[]\n",
    "for i in range(len(features)):\n",
    "        temp=features[i][:1000]\n",
    "        new_data.append(temp)\n",
    "features = new_data"
   ]
  },
  {
   "cell_type": "code",
   "execution_count": 45,
   "id": "e0f62482",
   "metadata": {},
   "outputs": [],
   "source": [
    "from sklearn.preprocessing import StandardScaler\n",
    "sc = StandardScaler()\n",
    "features = sc.fit_transform(features)"
   ]
  },
  {
   "cell_type": "code",
   "execution_count": 46,
   "id": "cd23b5f3",
   "metadata": {},
   "outputs": [],
   "source": [
    "#splitting dataset\n",
    "from sklearn.model_selection import train_test_split\n",
    "X_train,X_test,y_train,y_test = train_test_split(features,labels,test_size=0.2,random_state=0)"
   ]
  },
  {
   "cell_type": "code",
   "execution_count": 52,
   "id": "ab06698e",
   "metadata": {},
   "outputs": [
    {
     "name": "stderr",
     "output_type": "stream",
     "text": [
      "C:\\Anaconda3\\lib\\site-packages\\sklearn\\linear_model\\_logistic.py:814: ConvergenceWarning: lbfgs failed to converge (status=1):\n",
      "STOP: TOTAL NO. of ITERATIONS REACHED LIMIT.\n",
      "\n",
      "Increase the number of iterations (max_iter) or scale the data as shown in:\n",
      "    https://scikit-learn.org/stable/modules/preprocessing.html\n",
      "Please also refer to the documentation for alternative solver options:\n",
      "    https://scikit-learn.org/stable/modules/linear_model.html#logistic-regression\n",
      "  n_iter_i = _check_optimize_result(\n"
     ]
    },
    {
     "data": {
      "text/plain": [
       "1.021174669265747"
      ]
     },
     "execution_count": 52,
     "metadata": {},
     "output_type": "execute_result"
    }
   ],
   "source": [
    "from sklearn.linear_model import LogisticRegression\n",
    "cls = LogisticRegression(C=2.0)\n",
    "st = time.time()\n",
    "cls.fit(X_train,y_train)\n",
    "time.time()-st"
   ]
  },
  {
   "cell_type": "code",
   "execution_count": 48,
   "id": "e71ce5ec",
   "metadata": {},
   "outputs": [],
   "source": [
    "preds = cls.predict(X_test)"
   ]
  },
  {
   "cell_type": "code",
   "execution_count": 49,
   "id": "d473963f",
   "metadata": {},
   "outputs": [
    {
     "data": {
      "text/plain": [
       "0.4524714828897338"
      ]
     },
     "execution_count": 49,
     "metadata": {},
     "output_type": "execute_result"
    }
   ],
   "source": [
    "cls.score(X_train, y_train)"
   ]
  },
  {
   "cell_type": "code",
   "execution_count": 50,
   "id": "a678c5df",
   "metadata": {},
   "outputs": [
    {
     "data": {
      "text/plain": [
       "0.2878787878787879"
      ]
     },
     "execution_count": 50,
     "metadata": {},
     "output_type": "execute_result"
    }
   ],
   "source": [
    "cls.score(X_test, y_test)"
   ]
  },
  {
   "cell_type": "code",
   "execution_count": 51,
   "id": "014260ef",
   "metadata": {},
   "outputs": [
    {
     "data": {
      "text/plain": [
       "array([[28, 20, 15],\n",
       "       [43, 19, 10],\n",
       "       [44,  9, 10]], dtype=int64)"
      ]
     },
     "execution_count": 51,
     "metadata": {},
     "output_type": "execute_result"
    }
   ],
   "source": [
    "from sklearn.metrics import confusion_matrix\n",
    "cm = confusion_matrix(y_test, preds)\n",
    "cm"
   ]
  },
  {
   "cell_type": "code",
   "execution_count": null,
   "id": "4b4c2e93",
   "metadata": {},
   "outputs": [],
   "source": []
  }
 ],
 "metadata": {
  "kernelspec": {
   "display_name": "Python 3 (ipykernel)",
   "language": "python",
   "name": "python3"
  },
  "language_info": {
   "codemirror_mode": {
    "name": "ipython",
    "version": 3
   },
   "file_extension": ".py",
   "mimetype": "text/x-python",
   "name": "python",
   "nbconvert_exporter": "python",
   "pygments_lexer": "ipython3",
   "version": "3.9.12"
  }
 },
 "nbformat": 4,
 "nbformat_minor": 5
}
