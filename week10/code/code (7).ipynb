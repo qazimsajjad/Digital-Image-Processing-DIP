{
 "cells": [
  {
   "cell_type": "code",
   "execution_count": 1,
   "id": "e5893799",
   "metadata": {},
   "outputs": [],
   "source": [
    "import numpy as np\n",
    "import pandas as pd\n",
    "import matplotlib.pyplot as plt\n",
    "import cv2\n",
    "import os,time\n",
    "from skimage.feature import hog"
   ]
  },
  {
   "cell_type": "code",
   "execution_count": 2,
   "id": "142f32ed",
   "metadata": {},
   "outputs": [
    {
     "data": {
      "text/plain": [
       "['Cars', 'Cricket ball', 'Ice cream cone']"
      ]
     },
     "execution_count": 2,
     "metadata": {},
     "output_type": "execute_result"
    }
   ],
   "source": [
    "#directing the files\n",
    "cars = os.listdir('./Image Classification/cars')\n",
    "balls = os.listdir('./Image Classification/Cricket ball')\n",
    "cones = os.listdir('./Image Classification/Ice cream cone')\n",
    "catagories = os.listdir('./Image Classification/')\n",
    "catagories"
   ]
  },
  {
   "cell_type": "code",
   "execution_count": 3,
   "id": "07b3b433",
   "metadata": {},
   "outputs": [],
   "source": [
    "#reading the dataset\n",
    "dataset= []\n",
    "target = []\n",
    "# full_images = []\n",
    "datadir = 'Image Classification/'\n",
    "for catagory in catagories:\n",
    "    path = os.path.join(datadir,catagory)\n",
    "    for img in os.listdir(path):\n",
    "        \n",
    "        img_array = cv2.imread(os.path.join(path,img),0)\n",
    "        resized = cv2.resize(img_array,(128,64))\n",
    "        fd = hog(resized)\n",
    "#         full_images.append(resized.flatten())\n",
    "#         keypoints.append(kp)\n",
    "        dataset.append(fd.flatten())\n",
    "        target.append(catagories.index(catagory))"
   ]
  },
  {
   "cell_type": "code",
   "execution_count": 4,
   "id": "fe47c545",
   "metadata": {},
   "outputs": [
    {
     "data": {
      "text/plain": [
       "(6804,)"
      ]
     },
     "execution_count": 4,
     "metadata": {},
     "output_type": "execute_result"
    }
   ],
   "source": [
    "labels = np.array(target)\n",
    "dataset = np.array(dataset)\n",
    "# full_dataset = np.array(full_images)\n",
    "fd.shape"
   ]
  },
  {
   "cell_type": "code",
   "execution_count": 5,
   "id": "e58685b1",
   "metadata": {},
   "outputs": [],
   "source": [
    "# #splitting the dataset\n",
    "# from sklearn.model_selection import train_test_split\n",
    "# X_train_f, X_test_f, y_train, y_test = train_test_split(full_dataset, labels, test_size=0.2, random_state=0)"
   ]
  },
  {
   "cell_type": "code",
   "execution_count": 6,
   "id": "48109c47",
   "metadata": {},
   "outputs": [],
   "source": [
    "#splitting the dataset\n",
    "from sklearn.model_selection import train_test_split\n",
    "X_train, X_test, y_train, y_test = train_test_split(dataset, labels, test_size=0.2, random_state=0)"
   ]
  },
  {
   "cell_type": "code",
   "execution_count": 7,
   "id": "eb481429",
   "metadata": {},
   "outputs": [],
   "source": [
    "# X_train.shape"
   ]
  },
  {
   "cell_type": "code",
   "execution_count": 8,
   "id": "7ecb91ac",
   "metadata": {},
   "outputs": [
    {
     "name": "stderr",
     "output_type": "stream",
     "text": [
      "C:\\Anaconda3\\lib\\site-packages\\sklearn\\linear_model\\_logistic.py:814: ConvergenceWarning: lbfgs failed to converge (status=1):\n",
      "STOP: TOTAL NO. of ITERATIONS REACHED LIMIT.\n",
      "\n",
      "Increase the number of iterations (max_iter) or scale the data as shown in:\n",
      "    https://scikit-learn.org/stable/modules/preprocessing.html\n",
      "Please also refer to the documentation for alternative solver options:\n",
      "    https://scikit-learn.org/stable/modules/linear_model.html#logistic-regression\n",
      "  n_iter_i = _check_optimize_result(\n"
     ]
    },
    {
     "data": {
      "text/plain": [
       "1.8129756450653076"
      ]
     },
     "execution_count": 8,
     "metadata": {},
     "output_type": "execute_result"
    }
   ],
   "source": [
    "#fitting the classifier\n",
    "from sklearn.linear_model import LogisticRegression\n",
    "cls = LogisticRegression(C=2.0)\n",
    "st = time.time()\n",
    "cls.fit(X_train, y_train)\n",
    "ft = time.time()-st\n",
    "ft"
   ]
  },
  {
   "cell_type": "code",
   "execution_count": 10,
   "id": "f96ff3c9",
   "metadata": {},
   "outputs": [
    {
     "name": "stderr",
     "output_type": "stream",
     "text": [
      "C:\\Anaconda3\\lib\\site-packages\\sklearn\\linear_model\\_logistic.py:814: ConvergenceWarning: lbfgs failed to converge (status=1):\n",
      "STOP: TOTAL NO. of ITERATIONS REACHED LIMIT.\n",
      "\n",
      "Increase the number of iterations (max_iter) or scale the data as shown in:\n",
      "    https://scikit-learn.org/stable/modules/preprocessing.html\n",
      "Please also refer to the documentation for alternative solver options:\n",
      "    https://scikit-learn.org/stable/modules/linear_model.html#logistic-regression\n",
      "  n_iter_i = _check_optimize_result(\n"
     ]
    },
    {
     "data": {
      "text/plain": [
       "2.2822797298431396"
      ]
     },
     "execution_count": 10,
     "metadata": {},
     "output_type": "execute_result"
    }
   ],
   "source": [
    "# #fitting the classifier\n",
    "# from sklearn.linear_model import LogisticRegression\n",
    "# cls_f = LogisticRegression(C=2.0)\n",
    "# st = time.time()\n",
    "# cls_f.fit(X_train_f, y_train)\n",
    "# ft = time.time()-st\n",
    "# ft"
   ]
  },
  {
   "cell_type": "code",
   "execution_count": 12,
   "id": "cca27219",
   "metadata": {
    "scrolled": true
   },
   "outputs": [],
   "source": [
    "preds = cls.predict(X_test)"
   ]
  },
  {
   "cell_type": "code",
   "execution_count": 13,
   "id": "0749fc3b",
   "metadata": {},
   "outputs": [],
   "source": [
    "# preds_f = cls_f.predict(X_test_f)\n",
    "# cls_f.score(X_test_f,preds_f)"
   ]
  },
  {
   "cell_type": "code",
   "execution_count": 14,
   "id": "2fb7b12c",
   "metadata": {},
   "outputs": [
    {
     "data": {
      "text/plain": [
       "0.9696969696969697"
      ]
     },
     "execution_count": 14,
     "metadata": {},
     "output_type": "execute_result"
    }
   ],
   "source": [
    "cls.score(X_test,y_test)"
   ]
  },
  {
   "cell_type": "code",
   "execution_count": 15,
   "id": "c8c92269",
   "metadata": {},
   "outputs": [
    {
     "name": "stdout",
     "output_type": "stream",
     "text": [
      "Cars\n"
     ]
    }
   ],
   "source": [
    "img = cv2.imread('./mini-cooper-auto-model-vehicle.jpg',0)\n",
    "img = cv2.resize(img, (128,64))\n",
    "ft = hog(img)\n",
    "result = cls.predict([ft])\n",
    "print(catagories[result[0]])"
   ]
  },
  {
   "cell_type": "code",
   "execution_count": 16,
   "id": "3347017b",
   "metadata": {},
   "outputs": [
    {
     "data": {
      "text/plain": [
       "<matplotlib.image.AxesImage at 0x2579e517130>"
      ]
     },
     "execution_count": 16,
     "metadata": {},
     "output_type": "execute_result"
    },
    {
     "data": {
      "image/png": "[encoded data removed]",
      "text/plain": [
       "<Figure size 432x288 with 1 Axes>"
      ]
     },
     "metadata": {
      "needs_background": "light"
     },
     "output_type": "display_data"
    }
   ],
   "source": [
    "plt.imshow(img,cmap = 'gray')"
   ]
  },
  {
   "cell_type": "code",
   "execution_count": 17,
   "id": "5978ceb5",
   "metadata": {},
   "outputs": [
    {
     "data": {
      "text/plain": [
       "array([1])"
      ]
     },
     "execution_count": 17,
     "metadata": {},
     "output_type": "execute_result"
    }
   ],
   "source": [
    "img = cv2.imread('./mini-cooper-auto-model-vehicle.jpg',0)\n",
    "img = cv2.resize(img, (128,64))\n",
    "# ft = hog(img)\n",
    "result = cls_f.predict([img.flatten()])\n",
    "# print(catagories[result[0]])\n",
    "result"
   ]
  },
  {
   "cell_type": "code",
   "execution_count": 18,
   "id": "40655abe",
   "metadata": {},
   "outputs": [
    {
     "data": {
      "text/plain": [
       "1.0"
      ]
     },
     "execution_count": 18,
     "metadata": {},
     "output_type": "execute_result"
    }
   ],
   "source": [
    "cls.score(X_train,y_train)"
   ]
  },
  {
   "cell_type": "code",
   "execution_count": 19,
   "id": "d21d497c",
   "metadata": {},
   "outputs": [
    {
     "data": {
      "text/plain": [
       "0.9696969696969697"
      ]
     },
     "execution_count": 19,
     "metadata": {},
     "output_type": "execute_result"
    }
   ],
   "source": [
    "cls.score(X_test,y_test)"
   ]
  },
  {
   "cell_type": "code",
   "execution_count": 21,
   "id": "78364c93",
   "metadata": {},
   "outputs": [
    {
     "data": {
      "text/plain": [
       "array([[63,  0,  0],\n",
       "       [ 1, 71,  0],\n",
       "       [ 4,  1, 58]], dtype=int64)"
      ]
     },
     "execution_count": 21,
     "metadata": {},
     "output_type": "execute_result"
    }
   ],
   "source": [
    "from sklearn.metrics import confusion_matrix\n",
    "cm = confusion_matrix(y_test, preds)\n",
    "cm"
   ]
  },
  {
   "cell_type": "code",
   "execution_count": null,
   "id": "48ea8cfc",
   "metadata": {},
   "outputs": [],
   "source": []
  }
 ],
 "metadata": {
  "kernelspec": {
   "display_name": "Python 3 (ipykernel)",
   "language": "python",
   "name": "python3"
  },
  "language_info": {
   "codemirror_mode": {
    "name": "ipython",
    "version": 3
   },
   "file_extension": ".py",
   "mimetype": "text/x-python",
   "name": "python",
   "nbconvert_exporter": "python",
   "pygments_lexer": "ipython3",
   "version": "3.9.12"
  }
 },
 "nbformat": 4,
 "nbformat_minor": 5
}
